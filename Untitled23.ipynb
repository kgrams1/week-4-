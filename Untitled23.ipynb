{
 "cells": [
  {
   "cell_type": "markdown",
   "id": "b47b241e",
   "metadata": {},
   "source": [
    "# Chapter 7 "
   ]
  },
  {
   "cell_type": "markdown",
   "id": "0308ee6f",
   "metadata": {},
   "source": [
    "## Algorithm Workbench # 7"
   ]
  },
  {
   "cell_type": "code",
   "execution_count": 2,
   "id": "09e4150d",
   "metadata": {},
   "outputs": [
    {
     "name": "stdout",
     "output_type": "stream",
     "text": [
      "[1, 2, 3, 4, 5, 6]\n"
     ]
    }
   ],
   "source": [
    "#you are asked what the following list will print. The list should print list1 and list 2 in order in the parenthases. \n",
    "\n",
    "list1 = [1,2,3]\n",
    "list2 = [4,5,6]\n",
    "list3 = list1 + list2\n",
    "print(list3)"
   ]
  },
  {
   "cell_type": "markdown",
   "id": "59c06271",
   "metadata": {},
   "source": [
    "## Algorithm Wokbench #8"
   ]
  },
  {
   "cell_type": "code",
   "execution_count": 3,
   "id": "57d29141",
   "metadata": {},
   "outputs": [
    {
     "name": "stdout",
     "output_type": "stream",
     "text": [
      "[1, 2, 3, 1, 4, 9]\n"
     ]
    }
   ],
   "source": [
    "#you are aske dot create a second list that takes the integers from list 1 and find there squares.\n",
    "#To make this list I look at the 7.8 list comprehension portion in the book and it went through and\n",
    "#explained that you need to use the result expression and the iteration expression to create the list. \n",
    "#i**2 is the item value of i and uses that to square the numbers from list 1 \n",
    "list1 = [1,2,3]\n",
    "list2 = [i**2 for i in list1]\n",
    "list3 = list1 + list2\n",
    "print(list3)"
   ]
  },
  {
   "cell_type": "markdown",
   "id": "4b7ec577",
   "metadata": {},
   "source": [
    "# Programming exercise #1"
   ]
  },
  {
   "cell_type": "code",
   "execution_count": 4,
   "id": "9a848c32",
   "metadata": {},
   "outputs": [
    {
     "name": "stdout",
     "output_type": "stream",
     "text": [
      "Enter sales amount for day 1: 305\n",
      "Enter sales amount for day 2: 1004\n",
      "Enter sales amount for day 3: 34\n",
      "Enter sales amount for day 4: 747\n",
      "Enter sales amount for day 5: 23\n",
      "Enter sales amount for day 6: 66555\n",
      "Enter sales amount for day 7: 34\n",
      "Total sales for the week is 68702.0\n"
     ]
    }
   ],
   "source": [
    "\n",
    "# Initialize an empty list to store daily sales.\n",
    "sales = []\n",
    "\n",
    "# Loop to input sales amounts for 7 days.\n",
    "for day in range(7):\n",
    "    # Prompt the user to enter the sales amount for the current day.\n",
    "    # Convert the input to a float and append it to the sales list.\n",
    "    sales.append(float(input(\"Enter sales amount for day \" + str(day + 1) + \": \")))\n",
    "\n",
    "# Initialize a variable to store the total sales for the week.\n",
    "total_sales = 0\n",
    "\n",
    "# Calculate the total sales by iterating through the sales list.\n",
    "for sale in sales:\n",
    "    total_sales += sale\n",
    "\n",
    "# Display the total sales for the week.\n",
    "print(\"Total sales for the week is\", total_sales)"
   ]
  },
  {
   "cell_type": "markdown",
   "id": "dae8d887",
   "metadata": {},
   "source": [
    "# Programming exercise #2"
   ]
  },
  {
   "cell_type": "code",
   "execution_count": 7,
   "id": "5ebbc1c7",
   "metadata": {},
   "outputs": [
    {
     "name": "stdout",
     "output_type": "stream",
     "text": [
      "Here are your lottery numbers:\n",
      "0835587\n"
     ]
    }
   ],
   "source": [
    "#Used the video with the question to solve\n",
    "import random\n",
    "\n",
    "MAX_DIGITS = 7 #max number of digits\n",
    "START = 0 #start of the random number range\n",
    "END = 9 #end of the random number range \n",
    "\n",
    "#main function\n",
    "def main() :\n",
    "    #create a list\n",
    "    numbers = [0] * 7\n",
    "    \n",
    "    #populate the list with random numbers\n",
    "    for index in range(MAX_DIGITS) :\n",
    "        numbers[index] = random.randint(START, END)\n",
    "        \n",
    "    #display the random numbers.\n",
    "    print('Here are your lottery numbers:')\n",
    "    for index in range(MAX_DIGITS) :\n",
    "        print(numbers[index], end='')\n",
    "    print()\n",
    "    #call the main function\n",
    "main()"
   ]
  },
  {
   "cell_type": "markdown",
   "id": "7e289f01",
   "metadata": {},
   "source": [
    "# Programming exercise #14"
   ]
  },
  {
   "cell_type": "code",
   "execution_count": null,
   "id": "3959ac11",
   "metadata": {},
   "outputs": [],
   "source": [
    "import matplotlib.pyplot as plt\n",
    "\n",
    "filename = input('expenses : ')\n",
    "\n",
    "# open file in read mode\n",
    "\n",
    "fptr = open(filename , 'r')\n",
    "\n",
    "# set the labels\n",
    "\n",
    "categories = [ 'Rent', 'Gas', 'Food', 'Clothing', 'Car Payment', 'Misc' ]\n",
    "\n",
    "# store the expenses in the order of labels\n",
    "\n",
    "expenses = [ '800', '100', '400', '200', '300', '50' ]\n",
    "\n",
    "# read the content of file\n",
    "\n",
    "strng = fptr.read()\n",
    "\n",
    "# read the file line by line\n",
    "\n",
    "for line in strng.split('\\n'):\n",
    "\n",
    "   # add the current expense to expenses\n",
    "\n",
    "   expenses.append( int( line ) )\n",
    "\n",
    "colors = ['gold', 'yellowgreen', 'lightcoral', 'lightskyblue', 'green', 'red']\n",
    "\n",
    "# plot the pie chart\n",
    "\n",
    "plt.pie(expenses, labels = categories, colors = colors, autopct='%1.1f%%', shadow=True, startangle=140)\n",
    "\n",
    "# set the axis as equsl\n",
    "\n",
    "plt.axis('equal')\n",
    "\n",
    "# display the chart\n",
    "\n",
    "plt.show()"
   ]
  },
  {
   "cell_type": "markdown",
   "id": "a8ae5736",
   "metadata": {},
   "source": [
    "# Programming Exercise #3"
   ]
  },
  {
   "cell_type": "code",
   "execution_count": null,
   "id": "a80887b9",
   "metadata": {},
   "outputs": [],
   "source": [
    "#\n",
    "def main():\n",
    "    # Define list of months\n",
    "    months = [0] * 12\n",
    "    name_months = ['Jan', 'Feb', 'Mar', 'Apr', 'May', 'Jun', 'Jul', 'Aug', 'Sep', 'Oct', 'Nov', 'Dec']\n",
    "\n",
    "    # Function for calculating the total rainfall\n",
    "    def total(months):\n",
    "        total = 0\n",
    "        for num in months:\n",
    "            total += num\n",
    "        return total\n",
    "\n",
    "    # Input the amount of rain in each month\n",
    "    for index in range(12):\n",
    "        months[index] = float(input(name_months[index] + ': '))\n",
    "\n",
    "    # Calculate and display the total rainfall\n",
    "    total_rainfall = total(months)\n",
    "    print('The total rainfall for the year is', total_rainfall, 'mm.')\n",
    "\n",
    "    # Calculate and display the average rainfall\n",
    "    average = total_rainfall / 12.0\n",
    "    print('The average monthly rainfall is', average, 'mm.')\n",
    "\n",
    "    # Find the month with the lowest rainfall\n",
    "    lowest = min(months)\n",
    "    print('Lowest rainfall is', lowest, 'mm. It occurred in:')\n",
    "    for i in range(12):\n",
    "        if months[i] == lowest:\n",
    "            print(name_months[i])\n",
    "\n",
    "    # Find the month with the highest rainfall\n",
    "    highest = max(months)\n",
    "    print('Highest rainfall is', highest, 'mm. It occurred in:')\n",
    "    for i in range(12):\n",
    "        if months[i] == highest:\n",
    "            print(name_months[i])\n",
    "\n",
    "if __name__ == \"__main__\":\n",
    "    main()"
   ]
  },
  {
   "cell_type": "code",
   "execution_count": null,
   "id": "1e4353ff",
   "metadata": {},
   "outputs": [],
   "source": []
  }
 ],
 "metadata": {
  "kernelspec": {
   "display_name": "Python 3 (ipykernel)",
   "language": "python",
   "name": "python3"
  },
  "language_info": {
   "codemirror_mode": {
    "name": "ipython",
    "version": 3
   },
   "file_extension": ".py",
   "mimetype": "text/x-python",
   "name": "python",
   "nbconvert_exporter": "python",
   "pygments_lexer": "ipython3",
   "version": "3.11.4"
  }
 },
 "nbformat": 4,
 "nbformat_minor": 5
}
