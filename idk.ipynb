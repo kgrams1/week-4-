{
 "cells": [
  {
   "cell_type": "markdown",
   "id": "05ab0e6b",
   "metadata": {},
   "source": [
    "# Chapter 2 Exercises"
   ]
  },
  {
   "cell_type": "markdown",
   "id": "1fddf934",
   "metadata": {},
   "source": [
    "## Algorithm Workbench- Number 12\n",
    "Asked to run a print function call and predict what the output will be"
   ]
  },
  {
   "cell_type": "code",
   "execution_count": 3,
   "id": "4e3917e9",
   "metadata": {},
   "outputs": [
    {
     "name": "stdout",
     "output_type": "stream",
     "text": [
      "George@John@Paul@Ringo\n"
     ]
    }
   ],
   "source": [
    "print('George', 'John', 'Paul', 'Ringo', sep='@') "
   ]
  },
  {
   "cell_type": "markdown",
   "id": "16747c85",
   "metadata": {},
   "source": [
    "I believe the output will be similar to the following string \n",
    "\"George@John@Paul@Ringo\""
   ]
  },
  {
   "cell_type": "markdown",
   "id": "f564fdf5",
   "metadata": {},
   "source": [
    "The print function expects a varying number of arguments and it allows us to set up the sep. defaults toa single space but as shown in this call the seprator is a '@'"
   ]
  },
  {
   "cell_type": "code",
   "execution_count": null,
   "id": "a1a51e16",
   "metadata": {},
   "outputs": [],
   "source": []
  }
 ],
 "metadata": {
  "kernelspec": {
   "display_name": "Python 3 (ipykernel)",
   "language": "python",
   "name": "python3"
  },
  "language_info": {
   "codemirror_mode": {
    "name": "ipython",
    "version": 3
   },
   "file_extension": ".py",
   "mimetype": "text/x-python",
   "name": "python",
   "nbconvert_exporter": "python",
   "pygments_lexer": "ipython3",
   "version": "3.11.4"
  }
 },
 "nbformat": 4,
 "nbformat_minor": 5
}
