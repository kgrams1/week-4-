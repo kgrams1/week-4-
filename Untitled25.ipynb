{
 "cells": [
  {
   "cell_type": "markdown",
   "id": "8f86c5b6",
   "metadata": {},
   "source": [
    "# Week 9"
   ]
  },
  {
   "cell_type": "markdown",
   "id": "fdc20613",
   "metadata": {},
   "source": [
    "## Programming exercise #5"
   ]
  },
  {
   "cell_type": "code",
   "execution_count": 1,
   "id": "74cfa65b",
   "metadata": {},
   "outputs": [
    {
     "ename": "SyntaxError",
     "evalue": "invalid syntax (wordcount.py, line 16)",
     "output_type": "error",
     "traceback": [
      "Traceback \u001b[1;36m(most recent call last)\u001b[0m:\n",
      "\u001b[0m  File \u001b[0;32m~\\anaconda3\\Lib\\site-packages\\IPython\\core\\interactiveshell.py:3505\u001b[0m in \u001b[0;35mrun_code\u001b[0m\n    exec(code_obj, self.user_global_ns, self.user_ns)\u001b[0m\n",
      "\u001b[1;36m  Cell \u001b[1;32mIn[1], line 1\u001b[1;36m\n\u001b[1;33m    import wordcount\u001b[1;36m\n",
      "\u001b[1;36m  File \u001b[1;32m~\\wordcount.py:16\u001b[1;36m\u001b[0m\n\u001b[1;33m    else:\u001b[0m\n\u001b[1;37m    ^\u001b[0m\n\u001b[1;31mSyntaxError\u001b[0m\u001b[1;31m:\u001b[0m invalid syntax\n"
     ]
    }
   ],
   "source": [
    "import wordcount"
   ]
  },
  {
   "cell_type": "code",
   "execution_count": null,
   "id": "fc08344f",
   "metadata": {},
   "outputs": [],
   "source": [
    "#start the proccessing, opening file\n",
    "def main(file_name):\n",
    "    #variable for storing string contents of file\n",
    "    string_content = ''\n",
    "    \n",
    "    #use with statement to close the file when done\n",
    "    with open(file_name, \"r\") as file:\n",
    "        \n",
    "    #call our words list function to get a list of all the words in the string from the file\n",
    "    word_list = wordcount.get_words_list(string_contents)\n",
    "    #call our cpounts function to get a tally of the word counts in the string from the file\n",
    "    word_counts = wordcount.get_counts(word_list)\n",
    "    \n",
    "    #loop through counts and print\n",
    "    for word, count in word_counts.items():\n",
    "        print(f\"{word}: {count}\")\n",
    "#starts here\n",
    "main(\"some_text.txt\")"
   ]
  },
  {
   "cell_type": "code",
   "execution_count": null,
   "id": "366041ac",
   "metadata": {},
   "outputs": [],
   "source": []
  }
 ],
 "metadata": {
  "kernelspec": {
   "display_name": "Python 3 (ipykernel)",
   "language": "python",
   "name": "python3"
  },
  "language_info": {
   "codemirror_mode": {
    "name": "ipython",
    "version": 3
   },
   "file_extension": ".py",
   "mimetype": "text/x-python",
   "name": "python",
   "nbconvert_exporter": "python",
   "pygments_lexer": "ipython3",
   "version": "3.11.4"
  }
 },
 "nbformat": 4,
 "nbformat_minor": 5
}
