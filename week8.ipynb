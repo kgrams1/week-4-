{
 "cells": [
  {
   "cell_type": "markdown",
   "id": "d472b3c1",
   "metadata": {},
   "source": [
    "# Week 8 "
   ]
  },
  {
   "cell_type": "markdown",
   "id": "f8d22059",
   "metadata": {},
   "source": [
    "## Algorithm Workbench #2"
   ]
  },
  {
   "cell_type": "code",
   "execution_count": null,
   "id": "94d746db",
   "metadata": {},
   "outputs": [],
   "source": [
    "#Write a loop that counts the number of space characters that appear in the string referenced by ."
   ]
  },
  {
   "cell_type": "code",
   "execution_count": 2,
   "id": "7056cd1b",
   "metadata": {},
   "outputs": [
    {
     "name": "stdout",
     "output_type": "stream",
     "text": [
      "Number of space characters: 5\n"
     ]
    }
   ],
   "source": [
    "#initialize a variable mystring with the input string\n",
    "mystring = \"Hi this is my string \"\n",
    "#create the space count variable and set it at 0\n",
    "#loop each charater char in mystring and make sure you make the space count increment 1\n",
    "space_count = 0\n",
    "for char in mystring:\n",
    "    if char == \" \":\n",
    "        space_count += 1\n",
    "#print the number of spaces\n",
    "print(\"Number of space characters:\", space_count) "
   ]
  },
  {
   "cell_type": "markdown",
   "id": "af663399",
   "metadata": {},
   "source": [
    "## Algorithm Workbench #3"
   ]
  },
  {
   "cell_type": "code",
   "execution_count": 3,
   "id": "a757111f",
   "metadata": {},
   "outputs": [],
   "source": [
    "#Write a loop that counts the number of digits that appear in the string referenced by ."
   ]
  },
  {
   "cell_type": "code",
   "execution_count": 8,
   "id": "0a07af21",
   "metadata": {},
   "outputs": [
    {
     "name": "stdout",
     "output_type": "stream",
     "text": [
      "9\n"
     ]
    }
   ],
   "source": [
    "#initialize the string with your input string\n",
    "mystring = 'i just 3 spread 4 numbers 47 into here 92 for this 434'\n",
    "\n",
    "# Intialize the count variable and set it as 0\n",
    "#loop each character in mystring \n",
    "\n",
    "digit_count = 0\n",
    "\n",
    "for digit in mystring:\n",
    "\n",
    "    if digit.isdigit():\n",
    "\n",
    "        digit_count += 1;\n",
    "#print the number of digits\n",
    "print(digit_count)"
   ]
  },
  {
   "cell_type": "markdown",
   "id": "71c4ddda",
   "metadata": {},
   "source": [
    "## Programming Exercise #1"
   ]
  },
  {
   "cell_type": "code",
   "execution_count": 9,
   "id": "3233a6ff",
   "metadata": {},
   "outputs": [],
   "source": [
    "#Write a program that gets a string containing a person’s first, middle, and last names, \n",
    "#and displays their first, middle, and last initials. For example, if the user enters John \n",
    "#William Smith, the program should display J. W. S."
   ]
  },
  {
   "cell_type": "code",
   "execution_count": 10,
   "id": "2ebdd83a",
   "metadata": {},
   "outputs": [
    {
     "name": "stdout",
     "output_type": "stream",
     "text": [
      "Enter your full name: Koy Thomas Grams\n",
      "K.T.G."
     ]
    }
   ],
   "source": [
    "# Ask for user input for first, middle and last name   \n",
    "full_name = input ('Enter your full name: ')  \n",
    "# Split according to spaces     \n",
    "name = full_name.split()    \n",
    "# The first character of each name is an initial  \n",
    "for string in name:        \n",
    "    print(string[0].upper(), sep='', end='')  \n",
    "    print('.', sep=' ', end='')"
   ]
  },
  {
   "cell_type": "markdown",
   "id": "be9351dd",
   "metadata": {},
   "source": [
    "## Programming Exercise #2"
   ]
  },
  {
   "cell_type": "code",
   "execution_count": 11,
   "id": "3f21cf2d",
   "metadata": {},
   "outputs": [],
   "source": [
    "#Write a program that asks the user to enter a series of single-digit numbers with nothing \n",
    "#separating them. The program should display the sum of all the single digit numbers in the string. \n",
    "#For example, if the user enters 2514, the method should return 12, which is the sum of 2, 5, 1, and 4."
   ]
  },
  {
   "cell_type": "code",
   "execution_count": 12,
   "id": "f6d7ecb2",
   "metadata": {},
   "outputs": [
    {
     "name": "stdout",
     "output_type": "stream",
     "text": [
      "Enter a number: 7394\n",
      "Sum: 23\n"
     ]
    }
   ],
   "source": [
    "def main():   \n",
    "    # Get a string of numbers as input from the user.   \n",
    "    number = input('Enter a number: ')\n",
    "    # Call the method    \n",
    "    total = sumDigit(number)   \n",
    "    # Display the total.   \n",
    "    print('Sum:', total)\n",
    "#Method to find the sum \n",
    "def sumDigit(n): \n",
    "    # Local variables  \n",
    "    total = 0  \n",
    "    number = 0  \n",
    "    # Step through each character in the string.   \n",
    "    for i in range(len(n)):  \n",
    "        # Convert the character to an integer.     \n",
    "        number = int(n[i])   \n",
    "        # Add the value to the running total. \n",
    "        total += number   \n",
    "    # Return the total.\n",
    "    return total \n",
    "# Call the main function. \n",
    "main()"
   ]
  },
  {
   "cell_type": "markdown",
   "id": "5fb7766b",
   "metadata": {},
   "source": [
    "## Programing Exercise #3"
   ]
  },
  {
   "cell_type": "code",
   "execution_count": null,
   "id": "764a1362",
   "metadata": {},
   "outputs": [],
   "source": [
    "#used the python datetime library \n",
    "from datetime import datetime\n",
    "d = input('Enter a date(mm/dd/yyy)')\n",
    "\n",
    "# now convert the string into datetime object given the pattern\n",
    "d = datetime.strptime(d, \"%m/%d/%Y\")\n",
    "\n",
    "# print the datetime in any format you wish.\n",
    "print(d.strftime)(\"%B %d, %Y\")"
   ]
  },
  {
   "cell_type": "markdown",
   "id": "5db80267",
   "metadata": {},
   "source": [
    "## Programming Exercise #9"
   ]
  },
  {
   "cell_type": "code",
   "execution_count": null,
   "id": "e3d00065",
   "metadata": {},
   "outputs": [],
   "source": [
    "#used the video with the problem \n",
    "# main function\n",
    "def main() :\n",
    "    #get a string from the user\n",
    "    user_str = input('enter a string of characters: ')\n",
    "    \n",
    "    #report the vowels and consonants\n",
    "    print('that string has', num_vowels(user_str), 'vowels and', num_consonants(user_str), 'consonants.')\n",
    "    \n",
    "#the num_vowls function retuyrns the number of vowels in the string passed as an argument\n",
    "def num_vowels(s):\n",
    "    #make a list containing the vowels\n",
    "    vowels = ['a', 'e', 'i', 'o', 'u']\n",
    "    \n",
    "    #initialize an accumulator\n",
    "    v_count = 0\n",
    "    \n",
    "    #count the vowels in s\n",
    "    for ch in s:\n",
    "        if ch.lower() in vowels:\n",
    "            v_count += 1\n",
    "    #retuyrn the vowel count\n",
    "    return v_count\n",
    "#the num_consonants function returns the number of consonants in the string passed as an argument\n",
    "def num_consonants(s) :\n",
    "    #make a list containing the vowels\n",
    "    vowels = ['a', 'e', 'i', 'o', 'u']\n",
    "    \n",
    "    #initialize an accumulator\n",
    "    c_count = o\n",
    "    \n",
    "    #count the consonants in s \n",
    "    for ch in s:\n",
    "        if ch.isalpha() and ch.lower() not in vowels: \n",
    "            c_count += 1\n",
    "    \n",
    "    #return the consonat count\n",
    "    return c_count\n",
    "\n",
    "#call the main function\n",
    "main()"
   ]
  },
  {
   "cell_type": "code",
   "execution_count": null,
   "id": "4453242a",
   "metadata": {},
   "outputs": [],
   "source": []
  }
 ],
 "metadata": {
  "kernelspec": {
   "display_name": "Python 3 (ipykernel)",
   "language": "python",
   "name": "python3"
  },
  "language_info": {
   "codemirror_mode": {
    "name": "ipython",
    "version": 3
   },
   "file_extension": ".py",
   "mimetype": "text/x-python",
   "name": "python",
   "nbconvert_exporter": "python",
   "pygments_lexer": "ipython3",
   "version": "3.11.4"
  }
 },
 "nbformat": 4,
 "nbformat_minor": 5
}
